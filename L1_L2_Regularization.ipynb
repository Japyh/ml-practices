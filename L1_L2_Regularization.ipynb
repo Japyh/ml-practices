{
 "cells": [
  {
   "cell_type": "code",
   "execution_count": 12,
   "id": "712615f5",
   "metadata": {},
   "outputs": [],
   "source": [
    "from sklearn.datasets import load_diabetes\n",
    "from sklearn.model_selection import train_test_split, GridSearchCV\n",
    "from sklearn.linear_model import Ridge, Lasso\n",
    "from sklearn.metrics import mean_squared_error\n",
    "import numpy as np"
   ]
  },
  {
   "cell_type": "code",
   "execution_count": 2,
   "id": "3eba0e22",
   "metadata": {},
   "outputs": [],
   "source": [
    "diabetes = load_diabetes()\n",
    "X = diabetes.data\n",
    "y = diabetes.target"
   ]
  },
  {
   "cell_type": "code",
   "execution_count": 4,
   "id": "7aba96aa",
   "metadata": {},
   "outputs": [],
   "source": [
    "X_train, X_test, y_train, y_test = train_test_split(X, y, test_size=0.2, random_state=42)"
   ]
  },
  {
   "cell_type": "code",
   "execution_count": 8,
   "id": "0cba0cf4",
   "metadata": {},
   "outputs": [
    {
     "name": "stdout",
     "output_type": "stream",
     "text": [
      "Fitting 5 folds for each of 9 candidates, totalling 45 fits\n",
      "Ridge best params: {'alpha': 0.1}, test score: 0.45647798015266466\n"
     ]
    }
   ],
   "source": [
    "ridge = Ridge()\n",
    "ridge_params = {\"alpha\": [0.05, 0.1, 0.5, 1, 3, 5, 10, 15, 20]}\n",
    "grid_ridge = GridSearchCV(ridge, ridge_params, cv=5, verbose=1)\n",
    "grid_ridge.fit(X_train, y_train)\n",
    "print(f\"Ridge best params: {grid_ridge.best_params_}, test score: {grid_ridge.best_score_}\")"
   ]
  },
  {
   "cell_type": "code",
   "execution_count": 13,
   "id": "5608e13b",
   "metadata": {},
   "outputs": [
    {
     "data": {
      "text/plain": [
       "53.44611199769965"
      ]
     },
     "execution_count": 13,
     "metadata": {},
     "output_type": "execute_result"
    }
   ],
   "source": [
    "best_ridge = grid_ridge.best_estimator_\n",
    "y_pred = best_ridge.predict(X_test)\n",
    "\n",
    "rmse = np.sqrt(mean_squared_error(y_test, y_pred))\n",
    "rmse"
   ]
  },
  {
   "cell_type": "code",
   "execution_count": 14,
   "id": "fb8d22c5",
   "metadata": {},
   "outputs": [
    {
     "name": "stdout",
     "output_type": "stream",
     "text": [
      "Fitting 5 folds for each of 9 candidates, totalling 45 fits\n",
      "Lasso Best Params: {'alpha': 0.1}, Lasso Best Score: 0.4555104983088939\n"
     ]
    }
   ],
   "source": [
    "lasso = Lasso()\n",
    "lasso_params = {\"alpha\": [0.05, 0.1, 0.5, 1, 3, 5, 10, 15, 20]}\n",
    "grid_lasso = GridSearchCV(lasso, lasso_params, cv=5, verbose=1)\n",
    "grid_lasso.fit(X_train, y_train)\n",
    "print(f\"Lasso Best Params: {grid_lasso.best_params_}, Lasso Best Score: {grid_lasso.best_score_}\")"
   ]
  },
  {
   "cell_type": "code",
   "execution_count": 15,
   "id": "d1b1dc11",
   "metadata": {},
   "outputs": [
    {
     "data": {
      "text/plain": [
       "52.897953506442185"
      ]
     },
     "execution_count": 15,
     "metadata": {},
     "output_type": "execute_result"
    }
   ],
   "source": [
    "best_lasso = grid_lasso.best_estimator_\n",
    "y_pred_lasso = best_lasso.predict(X_test)\n",
    "\n",
    "rmse_lasso = np.sqrt(mean_squared_error(y_test, y_pred_lasso))\n",
    "rmse_lasso"
   ]
  }
 ],
 "metadata": {
  "kernelspec": {
   "display_name": "base",
   "language": "python",
   "name": "python3"
  },
  "language_info": {
   "codemirror_mode": {
    "name": "ipython",
    "version": 3
   },
   "file_extension": ".py",
   "mimetype": "text/x-python",
   "name": "python",
   "nbconvert_exporter": "python",
   "pygments_lexer": "ipython3",
   "version": "3.12.7"
  }
 },
 "nbformat": 4,
 "nbformat_minor": 5
}
