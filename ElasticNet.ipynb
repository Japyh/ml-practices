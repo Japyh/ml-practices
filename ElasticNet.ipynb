{
 "cells": [
  {
   "cell_type": "code",
   "execution_count": 8,
   "id": "11ec48f9",
   "metadata": {},
   "outputs": [],
   "source": [
    "from sklearn.datasets import load_diabetes\n",
    "from sklearn.model_selection import train_test_split, GridSearchCV\n",
    "from sklearn.linear_model import ElasticNet\n",
    "from sklearn.metrics import mean_squared_error\n",
    "import numpy as np"
   ]
  },
  {
   "cell_type": "code",
   "execution_count": 2,
   "id": "cf66523d",
   "metadata": {},
   "outputs": [],
   "source": [
    "diabetes = load_diabetes()\n",
    "X = diabetes.data\n",
    "y = diabetes.target"
   ]
  },
  {
   "cell_type": "code",
   "execution_count": 4,
   "id": "c92bf198",
   "metadata": {},
   "outputs": [],
   "source": [
    "X_train, X_test, y_train, y_test = train_test_split(X, y, test_size=0.2, random_state=42)"
   ]
  },
  {
   "cell_type": "code",
   "execution_count": 6,
   "id": "4a9dc203",
   "metadata": {},
   "outputs": [
    {
     "name": "stdout",
     "output_type": "stream",
     "text": [
      "Fitting 5 folds for each of 45 candidates, totalling 225 fits\n",
      "Elastic Net Best Params: {'alpha': 0.05, 'l1_ratio': 0.9}, Elastic Net Best Score: 0.3408538832653841\n"
     ]
    }
   ],
   "source": [
    "elastic_net = ElasticNet()\n",
    "elastic_net_params = {\"alpha\": [0.05, 0.1, 0.5, 1, 3, 5, 10, 15, 20], \"l1_ratio\": [0.1, 0.3, 0.5, 0.7, 0.9]}\n",
    "grid_elastic_net = GridSearchCV(elastic_net, elastic_net_params, cv=5, verbose=1)\n",
    "grid_elastic_net.fit(X_train, y_train)\n",
    "print(f\"Elastic Net Best Params: {grid_elastic_net.best_params_}, Elastic Net Best Score: {grid_elastic_net.best_score_}\")"
   ]
  },
  {
   "cell_type": "code",
   "execution_count": 9,
   "id": "99a03e6e",
   "metadata": {},
   "outputs": [
    {
     "data": {
      "text/plain": [
       "57.81901512230742"
      ]
     },
     "execution_count": 9,
     "metadata": {},
     "output_type": "execute_result"
    }
   ],
   "source": [
    "best_elastic_net = grid_elastic_net.best_estimator_\n",
    "y_pred_elastic_net = best_elastic_net.predict(X_test)\n",
    "rmse_elastic_net = np.sqrt(mean_squared_error(y_test, y_pred_elastic_net))\n",
    "rmse_elastic_net"
   ]
  }
 ],
 "metadata": {
  "kernelspec": {
   "display_name": "base",
   "language": "python",
   "name": "python3"
  },
  "language_info": {
   "codemirror_mode": {
    "name": "ipython",
    "version": 3
   },
   "file_extension": ".py",
   "mimetype": "text/x-python",
   "name": "python",
   "nbconvert_exporter": "python",
   "pygments_lexer": "ipython3",
   "version": "3.12.7"
  }
 },
 "nbformat": 4,
 "nbformat_minor": 5
}
