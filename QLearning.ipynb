{
 "cells": [
  {
   "cell_type": "code",
   "execution_count": 81,
   "id": "b4fa9b83",
   "metadata": {},
   "outputs": [],
   "source": [
    "import gymnasium as gym\n",
    "import numpy as np\n",
    "from tqdm import tqdm\n",
    "import matplotlib.pyplot as plt"
   ]
  },
  {
   "cell_type": "code",
   "execution_count": 74,
   "id": "233fffb5",
   "metadata": {},
   "outputs": [
    {
     "data": {
      "text/plain": [
       "(0, {'prob': 1})"
      ]
     },
     "execution_count": 74,
     "metadata": {},
     "output_type": "execute_result"
    }
   ],
   "source": [
    "environment = gym.make('FrozenLake-v1', desc=None, map_name=\"4x4\", is_slippery=False, render_mode=\"ansi\")\n",
    "environment.reset()"
   ]
  },
  {
   "cell_type": "code",
   "execution_count": 75,
   "id": "f9b5cdbd",
   "metadata": {},
   "outputs": [],
   "source": [
    "nb_of_states = environment.observation_space.n\n",
    "nb_actions = environment.action_space.n\n",
    "qtable = np.zeros([nb_of_states, nb_actions])"
   ]
  },
  {
   "cell_type": "code",
   "execution_count": 76,
   "id": "4389975b",
   "metadata": {},
   "outputs": [],
   "source": [
    "episodes = 10000\n",
    "alpha = 0.5\n",
    "gamma = 0.9"
   ]
  },
  {
   "cell_type": "code",
   "execution_count": 77,
   "id": "23168161",
   "metadata": {},
   "outputs": [],
   "source": [
    "outcomes = []"
   ]
  },
  {
   "cell_type": "code",
   "execution_count": 78,
   "id": "b133f099",
   "metadata": {},
   "outputs": [],
   "source": [
    "for _ in range(episodes):\n",
    "\n",
    "    state, _ = environment.reset()\n",
    "    done = False\n",
    "\n",
    "    outcomes.append(\"Failure\")\n",
    "\n",
    "    while not done:\n",
    "        if np.max(qtable[state]) > 0:\n",
    "            action = np.argmax(qtable[state])\n",
    "        else:\n",
    "            action = environment.action_space.sample()\n",
    "        new_state, reward, done, info, _ = environment.step(action)\n",
    "\n",
    "        qtable[state, action] = qtable[state, action] + alpha * (reward + gamma * np.max(qtable[new_state]) - qtable[state, action])\n",
    "\n",
    "        state = new_state\n",
    "\n",
    "        if reward:\n",
    "            outcomes[-1] = \"Success\""
   ]
  },
  {
   "cell_type": "code",
   "execution_count": 80,
   "id": "5cd6b805",
   "metadata": {},
   "outputs": [
    {
     "data": {
      "image/png": "[encoded data removed]",
      "text/plain": [
       "<Figure size 640x480 with 1 Axes>"
      ]
     },
     "metadata": {},
     "output_type": "display_data"
    }
   ],
   "source": [
    "plt.bar(range(episodes), outcomes);"
   ]
  },
  {
   "cell_type": "code",
   "execution_count": 84,
   "id": "0992896d",
   "metadata": {},
   "outputs": [],
   "source": [
    "episodes = 100\n",
    "nb_successes = 0"
   ]
  },
  {
   "cell_type": "code",
   "execution_count": 85,
   "id": "7c537bb5",
   "metadata": {},
   "outputs": [
    {
     "name": "stdout",
     "output_type": "stream",
     "text": [
      "Success rate: 100.0%\n"
     ]
    }
   ],
   "source": [
    "for _ in range(episodes):\n",
    "    state, _ = environment.reset()\n",
    "    done = False\n",
    "\n",
    "    while not done:\n",
    "        if np.max(qtable[state]) > 0:\n",
    "            action = np.argmax(qtable[state])\n",
    "        else:\n",
    "            action = environment.action_space.sample()\n",
    "        new_state, reward, done, info, _ = environment.step(action)\n",
    "        state = new_state\n",
    "        nb_successes += reward\n",
    "\n",
    "print(f\"Success rate: {(nb_successes / episodes) * 100}%\")"
   ]
  }
 ],
 "metadata": {
  "kernelspec": {
   "display_name": "base",
   "language": "python",
   "name": "python3"
  },
  "language_info": {
   "codemirror_mode": {
    "name": "ipython",
    "version": 3
   },
   "file_extension": ".py",
   "mimetype": "text/x-python",
   "name": "python",
   "nbconvert_exporter": "python",
   "pygments_lexer": "ipython3",
   "version": "3.12.7"
  }
 },
 "nbformat": 4,
 "nbformat_minor": 5
}
